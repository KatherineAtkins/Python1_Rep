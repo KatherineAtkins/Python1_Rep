{
  "nbformat": 4,
  "nbformat_minor": 0,
  "metadata": {
    "colab": {
      "provenance": [],
      "include_colab_link": true
    },
    "kernelspec": {
      "name": "python3",
      "display_name": "Python 3"
    },
    "language_info": {
      "name": "python"
    }
  },
  "cells": [
    {
      "cell_type": "markdown",
      "metadata": {
        "id": "view-in-github",
        "colab_type": "text"
      },
      "source": [
        "<a href=\"https://colab.research.google.com/github/KatherineAtkins/Python1_Rep/blob/main/W5_HW3_Questions_Function_Katherine_Atkins.ipynb\" target=\"_parent\"><img src=\"https://colab.research.google.com/assets/colab-badge.svg\" alt=\"Open In Colab\"/></a>"
      ]
    },
    {
      "cell_type": "markdown",
      "source": [
        "# **Week 5- Homework 3. Functions**"
      ],
      "metadata": {
        "id": "4pykq9yAWMJc"
      }
    },
    {
      "cell_type": "markdown",
      "source": [
        "**Katherine Atkins**\n",
        "\n",
        "2/22/2024"
      ],
      "metadata": {
        "id": "_g7_prjisPCC"
      }
    },
    {
      "cell_type": "markdown",
      "source": [
        "**Question 1.** Write a function named add that takes two numbers as arguments and returns their sum."
      ],
      "metadata": {
        "id": "8a9h5DfrT0m-"
      }
    },
    {
      "cell_type": "code",
      "source": [
        "def add(x, y):\n",
        "    return x + y\n",
        "\n",
        "add(3,2)"
      ],
      "metadata": {
        "id": "W257oIJmT0z_",
        "colab": {
          "base_uri": "https://localhost:8080/",
          "height": 0
        },
        "outputId": "06494a17-98b3-4266-f73a-24cc74ffd39d"
      },
      "execution_count": 1,
      "outputs": [
        {
          "output_type": "execute_result",
          "data": {
            "text/plain": [
              "5"
            ]
          },
          "metadata": {},
          "execution_count": 1
        }
      ]
    },
    {
      "cell_type": "markdown",
      "source": [
        "**Question 2.** Write a function named average that takes a list of numbers and returns their average."
      ],
      "metadata": {
        "id": "KGNQ9AjhT069"
      }
    },
    {
      "cell_type": "code",
      "source": [
        "def average(numbers):\n",
        "    return sum(numbers) / len(numbers)\n",
        "\n",
        "numbers = [1, 2, 3, 4, 5]\n",
        "result = average(numbers)\n",
        "\n",
        "result"
      ],
      "metadata": {
        "id": "q0avuru9T1C-",
        "colab": {
          "base_uri": "https://localhost:8080/",
          "height": 0
        },
        "outputId": "1092a503-c9f8-43ba-a8cf-088caf9b9d12"
      },
      "execution_count": 10,
      "outputs": [
        {
          "output_type": "execute_result",
          "data": {
            "text/plain": [
              "3.0"
            ]
          },
          "metadata": {},
          "execution_count": 10
        }
      ]
    },
    {
      "cell_type": "markdown",
      "source": [
        "**Question 3.**  Convert a given number of days into a combination of weeks and days."
      ],
      "metadata": {
        "id": "WamtOSO9T1KJ"
      }
    },
    {
      "cell_type": "code",
      "source": [
        "def days_to_weeks_and_days(days):\n",
        "  weeks = days // 7\n",
        "  remaining_days = days % 7\n",
        "  return weeks, remaining_days\n",
        "\n",
        "days = 25\n",
        "weeks, remaining_days = days_to_weeks_and_days(days)\n",
        "print(f\"{days} days is equivalent to {weeks} weeks and {remaining_days} days.\")\n",
        "\n"
      ],
      "metadata": {
        "id": "zgI6PKNlT1RI",
        "colab": {
          "base_uri": "https://localhost:8080/",
          "height": 0
        },
        "outputId": "539c38d7-fd3d-4d6b-9eca-37e9f9a4b249"
      },
      "execution_count": 5,
      "outputs": [
        {
          "output_type": "stream",
          "name": "stdout",
          "text": [
            "25 days is equivalent to 3 weeks and 4 days.\n"
          ]
        }
      ]
    },
    {
      "cell_type": "markdown",
      "source": [
        "**Question 4.** Write a function named string_length that takes a string and returns its length without using the built-in len() function."
      ],
      "metadata": {
        "id": "KZEw9z9fT1ZP"
      }
    },
    {
      "cell_type": "code",
      "source": [
        "def string_length(string):\n",
        "  length = 0\n",
        "  for char in string:\n",
        "    length += 1\n",
        "  return length\n",
        "\n",
        "string = \"Tulips are my favorite type of flowers\"\n",
        "length = string_length(string)\n",
        "length"
      ],
      "metadata": {
        "id": "KCqi8thQT1f5",
        "colab": {
          "base_uri": "https://localhost:8080/",
          "height": 0
        },
        "outputId": "59bdb86e-a063-4022-a7bb-24a85298a6c8"
      },
      "execution_count": 9,
      "outputs": [
        {
          "output_type": "execute_result",
          "data": {
            "text/plain": [
              "38"
            ]
          },
          "metadata": {},
          "execution_count": 9
        }
      ]
    },
    {
      "cell_type": "markdown",
      "source": [
        " **Question 5.** Write a function named max_number that takes two numbers as arguments and returns the maximum of the two."
      ],
      "metadata": {
        "id": "7LgBX_7IT1m3"
      }
    },
    {
      "cell_type": "code",
      "source": [
        "def max_number(x, y):\n",
        "  return max(x,y)\n",
        "\n",
        "\n",
        "max_number(7,6)"
      ],
      "metadata": {
        "id": "nQpdYKsGT1s1",
        "colab": {
          "base_uri": "https://localhost:8080/",
          "height": 0
        },
        "outputId": "f96cdb9d-407e-4fae-83a7-09c7694d5195"
      },
      "execution_count": 8,
      "outputs": [
        {
          "output_type": "execute_result",
          "data": {
            "text/plain": [
              "7"
            ]
          },
          "metadata": {},
          "execution_count": 8
        }
      ]
    },
    {
      "cell_type": "markdown",
      "source": [
        "**Question 6.**Write a function named count_down that takes a number as an argument and prints all numbers from the number down to 1."
      ],
      "metadata": {
        "id": "jdYyDLMeT1zH"
      }
    },
    {
      "cell_type": "code",
      "source": [
        "def count_down(numbers1):\n",
        "  while numbers1 >= 1:\n",
        "    print(numbers1)\n",
        "    numbers1 -= 1\n",
        "\n",
        "count_down(10)\n"
      ],
      "metadata": {
        "id": "9VW5OE7UT151",
        "colab": {
          "base_uri": "https://localhost:8080/",
          "height": 0
        },
        "outputId": "0bdad700-1fd4-4f0c-a6c7-407f0b68a308"
      },
      "execution_count": 14,
      "outputs": [
        {
          "output_type": "stream",
          "name": "stdout",
          "text": [
            "10\n",
            "9\n",
            "8\n",
            "7\n",
            "6\n",
            "5\n",
            "4\n",
            "3\n",
            "2\n",
            "1\n"
          ]
        }
      ]
    },
    {
      "cell_type": "markdown",
      "source": [
        "**Question 7.** Write a function named multiply_list that takes a list of numbers as an argument and returns the product of all the numbers in the list."
      ],
      "metadata": {
        "id": "mXKeymFkT1_1"
      }
    },
    {
      "cell_type": "code",
      "source": [
        "def multiply_list(numbers2):\n",
        "  result = 1\n",
        "  for nums in numbers2:\n",
        "    result *= nums\n",
        "  return result\n",
        "\n",
        "\n",
        "numbers2 = [2, 4, 8]\n",
        "result = multiply_list(numbers2)\n",
        "result"
      ],
      "metadata": {
        "id": "tzxsf5s7T2HQ",
        "colab": {
          "base_uri": "https://localhost:8080/",
          "height": 0
        },
        "outputId": "c555a253-c282-4e8a-ada9-38760b23fb56"
      },
      "execution_count": 17,
      "outputs": [
        {
          "output_type": "execute_result",
          "data": {
            "text/plain": [
              "64"
            ]
          },
          "metadata": {},
          "execution_count": 17
        }
      ]
    },
    {
      "cell_type": "code",
      "source": [],
      "metadata": {
        "id": "elKhoZGzr3UH"
      },
      "execution_count": null,
      "outputs": []
    }
  ]
}